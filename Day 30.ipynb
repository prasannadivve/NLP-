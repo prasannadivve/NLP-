{
 "cells": [
  {
   "cell_type": "code",
   "execution_count": 11,
   "id": "54c36284",
   "metadata": {},
   "outputs": [
    {
     "data": {
      "image/png": "[encoded data removed]",
      "text/plain": [
       "<Figure size 640x480 with 1 Axes>"
      ]
     },
     "metadata": {},
     "output_type": "display_data"
    }
   ],
   "source": [
    "import numpy as np\n",
    "\n",
    "import matplotlib.pyplot as plt\n",
    "\n",
    "# consider two vectors A and B in 2-D\n",
    "\n",
    "A = np.array([7,3])\n",
    "\n",
    "B = np.array([3,7])\n",
    "\n",
    "ax = plt.axes()\n",
    "\n",
    "ax.arrow(0.0, 0.0, A[0], A[1], head_width=0.4, head_length=0.5)\n",
    "\n",
    "plt.annotate(f\"A({A[0]},{A[1]})\", xy=(A[0], A[1]),xytext=(A[0]+0.5, A[1]))\n",
    "\n",
    "ax.arrow(0.0, 0.0, B[0], B[1], head_width=0.4, head_length=0.5)\n",
    "\n",
    "plt.annotate(f\"B({B[0]},{B[1]})\", xy=(B[0], B[1]),xytext=(B[0]+0.5, B[1]))\n",
    "\n",
    "plt.xlim(0,10)\n",
    "\n",
    "plt.ylim(0,10)\n",
    "\n",
    "plt.show()\n",
    "\n",
    "plt.close()"
   ]
  },
  {
   "cell_type": "code",
   "execution_count": 12,
   "id": "d7a5e5d9",
   "metadata": {},
   "outputs": [
    {
     "name": "stdout",
     "output_type": "stream",
     "text": [
      "Cosine Similarity between A and B:0.7241379310344827\n",
      "Cosine Distance between A and B:0.27586206896551735\n"
     ]
    }
   ],
   "source": [
    "# cosine similarity between A and B\n",
    "\n",
    "cos_sim = np.dot(A,B)/(np.linalg.norm(A)*np.linalg.norm(B))\n",
    "\n",
    "print (f\"Cosine Similarity between A and B:{cos_sim}\")\n",
    "\n",
    "print (f\"Cosine Distance between A and B:{1-cos_sim}\")"
   ]
  },
  {
   "cell_type": "code",
   "execution_count": 13,
   "id": "be0203d5",
   "metadata": {},
   "outputs": [
    {
     "data": {
      "text/plain": [
       "(9, 11, 23)"
      ]
     },
     "execution_count": 13,
     "metadata": {},
     "output_type": "execute_result"
    }
   ],
   "source": [
    "tup1 = (4,9,11,23)\n",
    "tup1[1:4]"
   ]
  },
  {
   "cell_type": "code",
   "execution_count": 14,
   "id": "faeaca17",
   "metadata": {},
   "outputs": [
    {
     "name": "stdout",
     "output_type": "stream",
     "text": [
      "3\n"
     ]
    }
   ],
   "source": [
    "a=13//4\n",
    "print(a)"
   ]
  },
  {
   "cell_type": "code",
   "execution_count": 15,
   "id": "30d0d4b9",
   "metadata": {},
   "outputs": [
    {
     "name": "stdout",
     "output_type": "stream",
     "text": [
      "5.0\n"
     ]
    }
   ],
   "source": [
    "import math\n",
    "print(math.sqrt(25))"
   ]
  },
  {
   "cell_type": "code",
   "execution_count": 16,
   "id": "11992bd3",
   "metadata": {},
   "outputs": [
    {
     "name": "stdout",
     "output_type": "stream",
     "text": [
      "1\n",
      "3\n",
      "5\n",
      "0\n"
     ]
    }
   ],
   "source": [
    "i = 1\n",
    "while i <= 5:\n",
    "    print(i)\n",
    "    i += 2\n",
    "else:\n",
    "    print(0)"
   ]
  },
  {
   "cell_type": "code",
   "execution_count": 17,
   "id": "83234335",
   "metadata": {},
   "outputs": [
    {
     "name": "stdout",
     "output_type": "stream",
     "text": [
      "AnB =  {1, 2}\n",
      "AUB =  {1, 2, 3, 4, 5, 6, 8, 9}\n",
      "J(A,B) =  0.25\n"
     ]
    }
   ],
   "source": [
    "A = {1,2,3,4,6}\n",
    "\n",
    "B = {1,2,5,8,9}\n",
    "\n",
    "# Intersaction and Union of two sets can also be done using & and | operators.\n",
    "\n",
    "C = A.intersection(B)\n",
    "\n",
    "D = A.union(B)\n",
    "\n",
    "print('AnB = ', C)\n",
    "\n",
    "print('AUB = ', D)\n",
    "\n",
    "print('J(A,B) = ', float(len(C))/float(len(D)))"
   ]
  },
  {
   "cell_type": "code",
   "execution_count": 18,
   "id": "f329df81",
   "metadata": {},
   "outputs": [
    {
     "name": "stdout",
     "output_type": "stream",
     "text": [
      "Jaccard Similarity: 0.375\n"
     ]
    }
   ],
   "source": [
    "def jaccard_similarity(set1, set2):\n",
    "\n",
    "    # intersection of two sets\n",
    "\n",
    "    intersection = len(set1.intersection(set2))\n",
    "\n",
    "    # Unions of two sets\n",
    "\n",
    "    union = len(set1.union(set2))\n",
    "\n",
    "     \n",
    "\n",
    "    return intersection / union\n",
    "\n",
    " \n",
    "\n",
    "set_a = {\"Language\", \"for\", \"Geeks\", \"NLP\", \"Data Science\"}\n",
    "\n",
    "set_b = {\"NLP\", \"for\", \"Language\", \"Data\", 'ML', \"AI\"}\n",
    "\n",
    " \n",
    "\n",
    "similarity = jaccard_similarity(set_a, set_b)\n",
    "\n",
    "print(\"Jaccard Similarity:\", similarity)"
   ]
  },
  {
   "cell_type": "code",
   "execution_count": 1,
   "id": "52f77870",
   "metadata": {},
   "outputs": [],
   "source": [
    "import numpy as np\n",
    "from sklearn.feature_extraction.text import TfidfVectorizer\n",
    "from sklearn.metrics.pairwise import cosine_similarity"
   ]
  },
  {
   "cell_type": "code",
   "execution_count": 2,
   "id": "cb873187",
   "metadata": {},
   "outputs": [],
   "source": [
    "# Step 1: Define predefined chatbot responses\n",
    "\n",
    "responses = [\n",
    "\n",
    "    \"You can return an item within 7 days of purchase.\",\n",
    "    \"Our return policy allows you to return items that are unopened and in their original condition.\",\n",
    "    \"We offer free shipping on orders over $50.\",\n",
    "    \"To track your order, you can visit the 'Order Tracking' page and enter your order number.\",\n",
    "    \"Our customer support team is available from 9 AM to 6 PM, Monday through Friday.\"\n",
    "\n",
    "]"
   ]
  },
  {
   "cell_type": "code",
   "execution_count": 3,
   "id": "6ca21a22",
   "metadata": {},
   "outputs": [],
   "source": [
    "# Step 2: Sample user input (this would come from a user in a real chatbot)\n",
    "\n",
    "user_input = \"How can I track my order?\""
   ]
  },
  {
   "cell_type": "code",
   "execution_count": 4,
   "id": "4dee8008",
   "metadata": {},
   "outputs": [],
   "source": [
    "# Step 3: Preprocess the text using TF-IDF Vectorization\n",
    "vectorizer = TfidfVectorizer(stop_words='english')  \n",
    "all_texts = responses + [user_input]  "
   ]
  },
  {
   "cell_type": "code",
   "execution_count": 5,
   "id": "7af064eb",
   "metadata": {},
   "outputs": [],
   "source": [
    "# Srep 4: Convert the text to TF-IDF vectors\n",
    "tfidf_matrix = vectorizer.fit_transform(all_texts)"
   ]
  },
  {
   "cell_type": "code",
   "execution_count": 6,
   "id": "9333dcd3",
   "metadata": {},
   "outputs": [],
   "source": [
    "# Step 5: Compute cosine similarity between the user input and all responses\n",
    "\n",
    "user_vector = tfidf_matrix[-1]  \n",
    "response_vectors = tfidf_matrix[:-1]  \n",
    "\n",
    "# Calculate cosine similarities\n",
    "\n",
    "cosine_similarities = cosine_similarity(user_vector, response_vectors)"
   ]
  },
  {
   "cell_type": "code",
   "execution_count": 7,
   "id": "6a7b22cf",
   "metadata": {},
   "outputs": [],
   "source": [
    "# Step 6: Find the most similar response\n",
    "\n",
    "most_similar_idx = np.argmax(cosine_similarities)  "
   ]
  },
  {
   "cell_type": "code",
   "execution_count": 9,
   "id": "79368a9c",
   "metadata": {
    "scrolled": true
   },
   "outputs": [
    {
     "name": "stdout",
     "output_type": "stream",
     "text": [
      "User Query: How can I track my order?\n",
      "Most relevant response: To track your order, you can visit the 'Order Tracking' page and enter your order number.\n"
     ]
    }
   ],
   "source": [
    "# Step 7: Display the most relevant response\n",
    "\n",
    "print(f\"User Query: {user_input}\")\n",
    "print(f\"Most relevant response: {responses[most_similar_idx]}\")"
   ]
  },
  {
   "cell_type": "code",
   "execution_count": 2,
   "id": "71e36748",
   "metadata": {},
   "outputs": [],
   "source": [
    "import io\n",
    "import random\n",
    "import string \n",
    "import warnings\n",
    "warnings.filterwarnings('ignore')\n",
    "import numpy as np\n",
    "from sklearn.feature_extraction.text import TfidfVectorizer # convert a collection of raw documents to a matrix of TF-IDF features\n",
    "from sklearn.metrics.pairwise import cosine_similarity\n",
    "import nltk\n",
    "from nltk.stem import WordNetLemmatizer"
   ]
  },
  {
   "cell_type": "code",
   "execution_count": 3,
   "id": "a80f5ea3",
   "metadata": {},
   "outputs": [],
   "source": [
    "#!pip install nltk\n",
    "import nltk"
   ]
  },
  {
   "cell_type": "code",
   "execution_count": null,
   "id": "a7f48577",
   "metadata": {},
   "outputs": [],
   "source": [
    "nltk.download('popular', quiet=True) \n",
    "nltk.download('punkt') \n",
    "nltk.download('wordnet')"
   ]
  },
  {
   "cell_type": "code",
   "execution_count": 12,
   "id": "a5f81184",
   "metadata": {},
   "outputs": [],
   "source": [
    "f=open('input.txt','r',errors = 'ignore')\n",
    "raw = f.read()\n",
    "raw = raw.lower()"
   ]
  },
  {
   "cell_type": "code",
   "execution_count": 13,
   "id": "2b0805dc",
   "metadata": {
    "scrolled": true
   },
   "outputs": [],
   "source": [
    "import nltk\n",
    "sent_tokens = nltk.sent_tokenize(raw)\n",
    "word_tokens = nltk.word_tokenize(raw)"
   ]
  },
  {
   "cell_type": "code",
   "execution_count": 14,
   "id": "28fc7020",
   "metadata": {},
   "outputs": [],
   "source": [
    "lemmer = nltk.stem.WordNetLemmatizer()\n",
    "def LemTokens(tokens):\n",
    "    return [lemmer.lemmatize(token) for token in tokens]\n",
    "remove_punct_dict = dict((ord(punct), None) for punct in string.punctuation)\n",
    "def LemNormalize(text):\n",
    "    return LemTokens(nltk.word_tokenize(text.lower().translate(remove_punct_dict)))"
   ]
  },
  {
   "cell_type": "code",
   "execution_count": 15,
   "id": "6b8df16e",
   "metadata": {},
   "outputs": [],
   "source": [
    "GREETING_INPUTS = (\"hello\", \"hi\", \"greetings\", \"what's up\",\"hey\",\\\n",
    "\n",
    "                   \"how are you?\")\n",
    "GREETING_RESPONSES = [\"hi\", \"hey\", \"hi there\", \"hello\", \\\n",
    "\n",
    "                      \"I am glad! You are talking to me\", \\\n",
    "\n",
    "                      \"I am fine! How about you?\"]\n",
    "def greeting(sentence): \n",
    "    for word in sentence.split():\n",
    "        if word.lower() in GREETING_INPUTS:\n",
    "            return random.choice(GREETING_RESPONSES)"
   ]
  },
  {
   "cell_type": "code",
   "execution_count": 16,
   "id": "e1b49168",
   "metadata": {},
   "outputs": [],
   "source": [
    "def response(user_response):\n",
    "    robo_response=''\n",
    "    sent_tokens.append(user_response)\n",
    "    TfidfVec = TfidfVectorizer(tokenizer=LemNormalize, stop_words='english')\n",
    "    tfidf = TfidfVec.fit_transform(sent_tokens)\n",
    "    vals = cosine_similarity(tfidf[-1], tfidf)\n",
    "    idx=vals.argsort()[0][-2]\n",
    "    flat = vals.flatten()\n",
    "    flat.sort()\n",
    "    req_tfidf = flat[-2]\n",
    "    if(req_tfidf==0):\n",
    "        robo_response=robo_response+\"I am sorry! I don't understand you.\"\n",
    "        return robo_response\n",
    "    else:\n",
    "        robo_response = robo_response+sent_tokens[idx]\n",
    "        return robo_response"
   ]
  },
  {
   "cell_type": "code",
   "execution_count": 23,
   "id": "29181d22",
   "metadata": {},
   "outputs": [
    {
     "name": "stdout",
     "output_type": "stream",
     "text": [
      "SABot: My name is SABot. How can I assist you?. If you want to exit, type Bye!\n",
      "hi\n",
      "SABot: I am glad! You are talking to me\n",
      "thank you\n",
      "SABot: You are welcome...\n"
     ]
    }
   ],
   "source": [
    "flag=True\n",
    "print(\"SABot: My name is SABot. How can I assist you?. \\\n",
    "If you want to exit, type Bye!\")\n",
    "while(flag==True):\n",
    "    user_response = input()\n",
    "    user_response=user_response.lower()\n",
    "    if(user_response!='bye'):\n",
    "        if(user_response=='thanks' or user_response=='thank you' ):\n",
    "            flag=False\n",
    "            print(\"SABot: You are welcome...\")\n",
    "        else:\n",
    "            if(greeting(user_response)!=None):\n",
    "                print(\"SABot: \"+greeting(user_response))\n",
    "            else:\n",
    "                print(\"SABot: \",end=\" \")\n",
    "                print(response(user_response))\n",
    "                sent_tokens.remove(user_response)\n",
    "    else:\n",
    "        flag=False\n",
    "        print(\"SABot: Bye! take care...\")"
   ]
  },
  {
   "cell_type": "code",
   "execution_count": null,
   "id": "141a3b4f",
   "metadata": {},
   "outputs": [],
   "source": []
  }
 ],
 "metadata": {
  "kernelspec": {
   "display_name": "Python 3 (ipykernel)",
   "language": "python",
   "name": "python3"
  },
  "language_info": {
   "codemirror_mode": {
    "name": "ipython",
    "version": 3
   },
   "file_extension": ".py",
   "mimetype": "text/x-python",
   "name": "python",
   "nbconvert_exporter": "python",
   "pygments_lexer": "ipython3",
   "version": "3.9.13"
  }
 },
 "nbformat": 4,
 "nbformat_minor": 5
}
